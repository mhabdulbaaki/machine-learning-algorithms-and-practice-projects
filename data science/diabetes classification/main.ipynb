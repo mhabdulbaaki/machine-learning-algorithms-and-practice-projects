{
 "cells": [
  {
   "cell_type": "code",
   "execution_count": 1,
   "id": "b6c420a4",
   "metadata": {},
   "outputs": [],
   "source": [
    "import numpy as np\n",
    "import pandas as pd\n",
    "import seaborn as sns\n",
    "from scipy import stats\n",
    "import statsmodels.api as sm\n",
    "import matplotlib.pyplot as plt\n",
    "from sklearn.impute import SimpleImputer\n",
    "from sklearn.feature_selection import r_regression\n",
    "from sklearn.metrics import confusion_matrix, accuracy_score\n",
    "from sklearn.linear_model import LinearRegression,LassoLarsIC\n",
    "from sklearn.metrics import r2_score, mean_squared_error, mean_absolute_error\n",
    "import warnings\n",
    "warnings.filterwarnings(\"ignore\")"
   ]
  },
  {
   "cell_type": "markdown",
   "id": "a70a03c3",
   "metadata": {},
   "source": [
    "# Question Three"
   ]
  },
  {
   "cell_type": "code",
   "execution_count": 2,
   "id": "1c3d0c16",
   "metadata": {},
   "outputs": [],
   "source": [
    "dibetes = pd.read_excel(\"./Diabetes_Data.xlsx\")"
   ]
  },
  {
   "cell_type": "code",
   "execution_count": 3,
   "id": "9a1c8649",
   "metadata": {},
   "outputs": [
    {
     "data": {
      "text/html": [
       "<div>\n",
       "<style scoped>\n",
       "    .dataframe tbody tr th:only-of-type {\n",
       "        vertical-align: middle;\n",
       "    }\n",
       "\n",
       "    .dataframe tbody tr th {\n",
       "        vertical-align: top;\n",
       "    }\n",
       "\n",
       "    .dataframe thead th {\n",
       "        text-align: right;\n",
       "    }\n",
       "</style>\n",
       "<table border=\"1\" class=\"dataframe\">\n",
       "  <thead>\n",
       "    <tr style=\"text-align: right;\">\n",
       "      <th></th>\n",
       "      <th>AGE</th>\n",
       "      <th>SEX</th>\n",
       "      <th>BMI</th>\n",
       "      <th>BP</th>\n",
       "      <th>S1</th>\n",
       "      <th>S2</th>\n",
       "      <th>S3</th>\n",
       "      <th>S4</th>\n",
       "      <th>S5</th>\n",
       "      <th>S6</th>\n",
       "      <th>Y</th>\n",
       "    </tr>\n",
       "  </thead>\n",
       "  <tbody>\n",
       "    <tr>\n",
       "      <th>0</th>\n",
       "      <td>59</td>\n",
       "      <td>2</td>\n",
       "      <td>32.1</td>\n",
       "      <td>101.0</td>\n",
       "      <td>157</td>\n",
       "      <td>93.2</td>\n",
       "      <td>38.0</td>\n",
       "      <td>4.0</td>\n",
       "      <td>4.8598</td>\n",
       "      <td>87</td>\n",
       "      <td>151</td>\n",
       "    </tr>\n",
       "    <tr>\n",
       "      <th>1</th>\n",
       "      <td>48</td>\n",
       "      <td>1</td>\n",
       "      <td>21.6</td>\n",
       "      <td>87.0</td>\n",
       "      <td>183</td>\n",
       "      <td>103.2</td>\n",
       "      <td>70.0</td>\n",
       "      <td>3.0</td>\n",
       "      <td>3.8918</td>\n",
       "      <td>69</td>\n",
       "      <td>75</td>\n",
       "    </tr>\n",
       "    <tr>\n",
       "      <th>2</th>\n",
       "      <td>72</td>\n",
       "      <td>2</td>\n",
       "      <td>30.5</td>\n",
       "      <td>93.0</td>\n",
       "      <td>156</td>\n",
       "      <td>93.6</td>\n",
       "      <td>41.0</td>\n",
       "      <td>4.0</td>\n",
       "      <td>4.6728</td>\n",
       "      <td>85</td>\n",
       "      <td>141</td>\n",
       "    </tr>\n",
       "    <tr>\n",
       "      <th>3</th>\n",
       "      <td>24</td>\n",
       "      <td>1</td>\n",
       "      <td>25.3</td>\n",
       "      <td>84.0</td>\n",
       "      <td>198</td>\n",
       "      <td>131.4</td>\n",
       "      <td>40.0</td>\n",
       "      <td>5.0</td>\n",
       "      <td>4.8903</td>\n",
       "      <td>89</td>\n",
       "      <td>206</td>\n",
       "    </tr>\n",
       "    <tr>\n",
       "      <th>4</th>\n",
       "      <td>50</td>\n",
       "      <td>1</td>\n",
       "      <td>23.0</td>\n",
       "      <td>101.0</td>\n",
       "      <td>192</td>\n",
       "      <td>125.4</td>\n",
       "      <td>52.0</td>\n",
       "      <td>4.0</td>\n",
       "      <td>4.2905</td>\n",
       "      <td>80</td>\n",
       "      <td>135</td>\n",
       "    </tr>\n",
       "  </tbody>\n",
       "</table>\n",
       "</div>"
      ],
      "text/plain": [
       "   AGE  SEX   BMI     BP   S1     S2    S3   S4      S5  S6    Y\n",
       "0   59    2  32.1  101.0  157   93.2  38.0  4.0  4.8598  87  151\n",
       "1   48    1  21.6   87.0  183  103.2  70.0  3.0  3.8918  69   75\n",
       "2   72    2  30.5   93.0  156   93.6  41.0  4.0  4.6728  85  141\n",
       "3   24    1  25.3   84.0  198  131.4  40.0  5.0  4.8903  89  206\n",
       "4   50    1  23.0  101.0  192  125.4  52.0  4.0  4.2905  80  135"
      ]
     },
     "execution_count": 3,
     "metadata": {},
     "output_type": "execute_result"
    }
   ],
   "source": [
    "dibetes.head()"
   ]
  },
  {
   "cell_type": "code",
   "execution_count": 4,
   "id": "c7209822",
   "metadata": {},
   "outputs": [
    {
     "data": {
      "text/plain": [
       "Index(['AGE', 'SEX', 'BMI', 'BP', 'S1', 'S2', 'S3', 'S4', 'S5', 'S6', 'Y'], dtype='object')"
      ]
     },
     "execution_count": 4,
     "metadata": {},
     "output_type": "execute_result"
    }
   ],
   "source": [
    "dibetes.columns"
   ]
  },
  {
   "cell_type": "code",
   "execution_count": 5,
   "id": "c74a5e1c",
   "metadata": {},
   "outputs": [],
   "source": [
    "features = ['AGE', 'SEX', 'BMI', 'BP', 'S1', 'S2', 'S3', 'S4', 'S5', 'S6']\n",
    "X = dibetes[features] # Feature Matrix\n",
    "y = dibetes['Y'] # Target Variable"
   ]
  },
  {
   "cell_type": "code",
   "execution_count": 6,
   "id": "d12189bf",
   "metadata": {},
   "outputs": [
    {
     "data": {
      "text/html": [
       "<div>\n",
       "<style scoped>\n",
       "    .dataframe tbody tr th:only-of-type {\n",
       "        vertical-align: middle;\n",
       "    }\n",
       "\n",
       "    .dataframe tbody tr th {\n",
       "        vertical-align: top;\n",
       "    }\n",
       "\n",
       "    .dataframe thead th {\n",
       "        text-align: right;\n",
       "    }\n",
       "</style>\n",
       "<table border=\"1\" class=\"dataframe\">\n",
       "  <thead>\n",
       "    <tr style=\"text-align: right;\">\n",
       "      <th></th>\n",
       "      <th>AGE</th>\n",
       "      <th>SEX</th>\n",
       "      <th>BMI</th>\n",
       "      <th>BP</th>\n",
       "      <th>S1</th>\n",
       "      <th>S2</th>\n",
       "      <th>S3</th>\n",
       "      <th>S4</th>\n",
       "      <th>S5</th>\n",
       "      <th>S6</th>\n",
       "    </tr>\n",
       "  </thead>\n",
       "  <tbody>\n",
       "    <tr>\n",
       "      <th>AGE</th>\n",
       "      <td>1.000000</td>\n",
       "      <td>0.173737</td>\n",
       "      <td>0.185085</td>\n",
       "      <td>0.335428</td>\n",
       "      <td>0.260061</td>\n",
       "      <td>0.219243</td>\n",
       "      <td>-0.075181</td>\n",
       "      <td>0.203841</td>\n",
       "      <td>0.270774</td>\n",
       "      <td>0.301731</td>\n",
       "    </tr>\n",
       "    <tr>\n",
       "      <th>SEX</th>\n",
       "      <td>0.173737</td>\n",
       "      <td>1.000000</td>\n",
       "      <td>0.088161</td>\n",
       "      <td>0.241010</td>\n",
       "      <td>0.035277</td>\n",
       "      <td>0.142637</td>\n",
       "      <td>-0.379090</td>\n",
       "      <td>0.332115</td>\n",
       "      <td>0.149916</td>\n",
       "      <td>0.208133</td>\n",
       "    </tr>\n",
       "    <tr>\n",
       "      <th>BMI</th>\n",
       "      <td>0.185085</td>\n",
       "      <td>0.088161</td>\n",
       "      <td>1.000000</td>\n",
       "      <td>0.395411</td>\n",
       "      <td>0.249777</td>\n",
       "      <td>0.261170</td>\n",
       "      <td>-0.366811</td>\n",
       "      <td>0.413807</td>\n",
       "      <td>0.446157</td>\n",
       "      <td>0.388680</td>\n",
       "    </tr>\n",
       "    <tr>\n",
       "      <th>BP</th>\n",
       "      <td>0.335428</td>\n",
       "      <td>0.241010</td>\n",
       "      <td>0.395411</td>\n",
       "      <td>1.000000</td>\n",
       "      <td>0.242464</td>\n",
       "      <td>0.185548</td>\n",
       "      <td>-0.178762</td>\n",
       "      <td>0.257650</td>\n",
       "      <td>0.393480</td>\n",
       "      <td>0.390430</td>\n",
       "    </tr>\n",
       "    <tr>\n",
       "      <th>S1</th>\n",
       "      <td>0.260061</td>\n",
       "      <td>0.035277</td>\n",
       "      <td>0.249777</td>\n",
       "      <td>0.242464</td>\n",
       "      <td>1.000000</td>\n",
       "      <td>0.896663</td>\n",
       "      <td>0.051519</td>\n",
       "      <td>0.542207</td>\n",
       "      <td>0.515503</td>\n",
       "      <td>0.325717</td>\n",
       "    </tr>\n",
       "    <tr>\n",
       "      <th>S2</th>\n",
       "      <td>0.219243</td>\n",
       "      <td>0.142637</td>\n",
       "      <td>0.261170</td>\n",
       "      <td>0.185548</td>\n",
       "      <td>0.896663</td>\n",
       "      <td>1.000000</td>\n",
       "      <td>-0.196455</td>\n",
       "      <td>0.659817</td>\n",
       "      <td>0.318357</td>\n",
       "      <td>0.290600</td>\n",
       "    </tr>\n",
       "    <tr>\n",
       "      <th>S3</th>\n",
       "      <td>-0.075181</td>\n",
       "      <td>-0.379090</td>\n",
       "      <td>-0.366811</td>\n",
       "      <td>-0.178762</td>\n",
       "      <td>0.051519</td>\n",
       "      <td>-0.196455</td>\n",
       "      <td>1.000000</td>\n",
       "      <td>-0.738493</td>\n",
       "      <td>-0.398577</td>\n",
       "      <td>-0.273697</td>\n",
       "    </tr>\n",
       "    <tr>\n",
       "      <th>S4</th>\n",
       "      <td>0.203841</td>\n",
       "      <td>0.332115</td>\n",
       "      <td>0.413807</td>\n",
       "      <td>0.257650</td>\n",
       "      <td>0.542207</td>\n",
       "      <td>0.659817</td>\n",
       "      <td>-0.738493</td>\n",
       "      <td>1.000000</td>\n",
       "      <td>0.617859</td>\n",
       "      <td>0.417212</td>\n",
       "    </tr>\n",
       "    <tr>\n",
       "      <th>S5</th>\n",
       "      <td>0.270774</td>\n",
       "      <td>0.149916</td>\n",
       "      <td>0.446157</td>\n",
       "      <td>0.393480</td>\n",
       "      <td>0.515503</td>\n",
       "      <td>0.318357</td>\n",
       "      <td>-0.398577</td>\n",
       "      <td>0.617859</td>\n",
       "      <td>1.000000</td>\n",
       "      <td>0.464669</td>\n",
       "    </tr>\n",
       "    <tr>\n",
       "      <th>S6</th>\n",
       "      <td>0.301731</td>\n",
       "      <td>0.208133</td>\n",
       "      <td>0.388680</td>\n",
       "      <td>0.390430</td>\n",
       "      <td>0.325717</td>\n",
       "      <td>0.290600</td>\n",
       "      <td>-0.273697</td>\n",
       "      <td>0.417212</td>\n",
       "      <td>0.464669</td>\n",
       "      <td>1.000000</td>\n",
       "    </tr>\n",
       "  </tbody>\n",
       "</table>\n",
       "</div>"
      ],
      "text/plain": [
       "          AGE       SEX       BMI        BP        S1        S2        S3  \\\n",
       "AGE  1.000000  0.173737  0.185085  0.335428  0.260061  0.219243 -0.075181   \n",
       "SEX  0.173737  1.000000  0.088161  0.241010  0.035277  0.142637 -0.379090   \n",
       "BMI  0.185085  0.088161  1.000000  0.395411  0.249777  0.261170 -0.366811   \n",
       "BP   0.335428  0.241010  0.395411  1.000000  0.242464  0.185548 -0.178762   \n",
       "S1   0.260061  0.035277  0.249777  0.242464  1.000000  0.896663  0.051519   \n",
       "S2   0.219243  0.142637  0.261170  0.185548  0.896663  1.000000 -0.196455   \n",
       "S3  -0.075181 -0.379090 -0.366811 -0.178762  0.051519 -0.196455  1.000000   \n",
       "S4   0.203841  0.332115  0.413807  0.257650  0.542207  0.659817 -0.738493   \n",
       "S5   0.270774  0.149916  0.446157  0.393480  0.515503  0.318357 -0.398577   \n",
       "S6   0.301731  0.208133  0.388680  0.390430  0.325717  0.290600 -0.273697   \n",
       "\n",
       "           S4        S5        S6  \n",
       "AGE  0.203841  0.270774  0.301731  \n",
       "SEX  0.332115  0.149916  0.208133  \n",
       "BMI  0.413807  0.446157  0.388680  \n",
       "BP   0.257650  0.393480  0.390430  \n",
       "S1   0.542207  0.515503  0.325717  \n",
       "S2   0.659817  0.318357  0.290600  \n",
       "S3  -0.738493 -0.398577 -0.273697  \n",
       "S4   1.000000  0.617859  0.417212  \n",
       "S5   0.617859  1.000000  0.464669  \n",
       "S6   0.417212  0.464669  1.000000  "
      ]
     },
     "execution_count": 6,
     "metadata": {},
     "output_type": "execute_result"
    }
   ],
   "source": [
    "X.corr()  # Correlation Matrix of 10 Features"
   ]
  },
  {
   "cell_type": "code",
   "execution_count": 7,
   "id": "dfa5b81b",
   "metadata": {},
   "outputs": [
    {
     "data": {
      "text/plain": [
       "<Axes: >"
      ]
     },
     "execution_count": 7,
     "metadata": {},
     "output_type": "execute_result"
    },
    {
     "data": {
      "image/png": "[encoded data removed]",
      "text/plain": [
       "<Figure size 640x480 with 2 Axes>"
      ]
     },
     "metadata": {},
     "output_type": "display_data"
    }
   ],
   "source": [
    "# make heat of features\n",
    "sns.heatmap(X.corr(), annot=True, cmap='RdYlGn', linewidths=0.2) #data.corr()-->correlation matrix"
   ]
  },
  {
   "cell_type": "code",
   "execution_count": 8,
   "id": "c9889c70",
   "metadata": {},
   "outputs": [
    {
     "name": "stdout",
     "output_type": "stream",
     "text": [
      "<class 'pandas.core.frame.DataFrame'>\n",
      "RangeIndex: 442 entries, 0 to 441\n",
      "Data columns (total 10 columns):\n",
      " #   Column  Non-Null Count  Dtype  \n",
      "---  ------  --------------  -----  \n",
      " 0   AGE     442 non-null    int64  \n",
      " 1   SEX     442 non-null    int64  \n",
      " 2   BMI     442 non-null    float64\n",
      " 3   BP      442 non-null    float64\n",
      " 4   S1      442 non-null    int64  \n",
      " 5   S2      442 non-null    float64\n",
      " 6   S3      442 non-null    float64\n",
      " 7   S4      442 non-null    float64\n",
      " 8   S5      442 non-null    float64\n",
      " 9   S6      442 non-null    int64  \n",
      "dtypes: float64(6), int64(4)\n",
      "memory usage: 34.7 KB\n"
     ]
    }
   ],
   "source": [
    "X.info()"
   ]
  },
  {
   "cell_type": "code",
   "execution_count": 9,
   "id": "72c40ae0",
   "metadata": {},
   "outputs": [
    {
     "name": "stdout",
     "output_type": "stream",
     "text": [
      "R2 score:  0.5177484222203498\n",
      "Mean Squared Error:  2859.6963475867506\n"
     ]
    }
   ],
   "source": [
    "model1 = LinearRegression() # Linear Regression Model\n",
    "model1.fit(X, y) # Fit the model with the data\n",
    "\n",
    "y_pred = model1.predict(X) # Predict the model with the data\n",
    "\n",
    "\n",
    "print(\"R2 score: \", r2_score(y, y_pred)) # R2 score\n",
    "\n",
    "print(\"Mean Squared Error: \", mean_squared_error(y, y_pred)) # Mean Squared Error"
   ]
  },
  {
   "cell_type": "code",
   "execution_count": 10,
   "id": "dc7ccf35",
   "metadata": {},
   "outputs": [],
   "source": [
    "def forward_stepwise_selection(X, y, alpha=0.05):\n",
    "    selected_vars = []\n",
    "    remaining_vars = list(X.columns)\n",
    "    while len(remaining_vars) > 0:\n",
    "        p_values = []\n",
    "        for var in remaining_vars:\n",
    "            model = sm.OLS(y, sm.add_constant(X[selected_vars + [var]])).fit()\n",
    "            p_value = model.pvalues[var]\n",
    "            p_values.append((var, p_value))\n",
    "        best_var, min_p_value = min(p_values, key=lambda x: x[1])\n",
    "        if min_p_value < alpha:\n",
    "            selected_vars.append(best_var)\n",
    "            remaining_vars.remove(best_var)\n",
    "        else:\n",
    "            break\n",
    "    return selected_vars"
   ]
  },
  {
   "cell_type": "code",
   "execution_count": 11,
   "id": "13d4b86a",
   "metadata": {},
   "outputs": [
    {
     "name": "stdout",
     "output_type": "stream",
     "text": [
      "Selected Features:  ['BMI', 'S5', 'BP', 'S1', 'SEX', 'S2']\n"
     ]
    }
   ],
   "source": [
    "selected_features = forward_stepwise_selection(X, y) \n",
    "\n",
    "print(\"Selected Features: \", selected_features)"
   ]
  },
  {
   "cell_type": "code",
   "execution_count": 12,
   "id": "415247b3",
   "metadata": {},
   "outputs": [
    {
     "data": {
      "text/html": [
       "<div>\n",
       "<style scoped>\n",
       "    .dataframe tbody tr th:only-of-type {\n",
       "        vertical-align: middle;\n",
       "    }\n",
       "\n",
       "    .dataframe tbody tr th {\n",
       "        vertical-align: top;\n",
       "    }\n",
       "\n",
       "    .dataframe thead th {\n",
       "        text-align: right;\n",
       "    }\n",
       "</style>\n",
       "<table border=\"1\" class=\"dataframe\">\n",
       "  <thead>\n",
       "    <tr style=\"text-align: right;\">\n",
       "      <th></th>\n",
       "      <th>BMI</th>\n",
       "      <th>S5</th>\n",
       "      <th>BP</th>\n",
       "      <th>S1</th>\n",
       "      <th>SEX</th>\n",
       "      <th>S2</th>\n",
       "    </tr>\n",
       "  </thead>\n",
       "  <tbody>\n",
       "    <tr>\n",
       "      <th>0</th>\n",
       "      <td>32.1</td>\n",
       "      <td>4.8598</td>\n",
       "      <td>101.00</td>\n",
       "      <td>157</td>\n",
       "      <td>2</td>\n",
       "      <td>93.2</td>\n",
       "    </tr>\n",
       "    <tr>\n",
       "      <th>1</th>\n",
       "      <td>21.6</td>\n",
       "      <td>3.8918</td>\n",
       "      <td>87.00</td>\n",
       "      <td>183</td>\n",
       "      <td>1</td>\n",
       "      <td>103.2</td>\n",
       "    </tr>\n",
       "    <tr>\n",
       "      <th>2</th>\n",
       "      <td>30.5</td>\n",
       "      <td>4.6728</td>\n",
       "      <td>93.00</td>\n",
       "      <td>156</td>\n",
       "      <td>2</td>\n",
       "      <td>93.6</td>\n",
       "    </tr>\n",
       "    <tr>\n",
       "      <th>3</th>\n",
       "      <td>25.3</td>\n",
       "      <td>4.8903</td>\n",
       "      <td>84.00</td>\n",
       "      <td>198</td>\n",
       "      <td>1</td>\n",
       "      <td>131.4</td>\n",
       "    </tr>\n",
       "    <tr>\n",
       "      <th>4</th>\n",
       "      <td>23.0</td>\n",
       "      <td>4.2905</td>\n",
       "      <td>101.00</td>\n",
       "      <td>192</td>\n",
       "      <td>1</td>\n",
       "      <td>125.4</td>\n",
       "    </tr>\n",
       "    <tr>\n",
       "      <th>...</th>\n",
       "      <td>...</td>\n",
       "      <td>...</td>\n",
       "      <td>...</td>\n",
       "      <td>...</td>\n",
       "      <td>...</td>\n",
       "      <td>...</td>\n",
       "    </tr>\n",
       "    <tr>\n",
       "      <th>437</th>\n",
       "      <td>28.2</td>\n",
       "      <td>4.9836</td>\n",
       "      <td>112.00</td>\n",
       "      <td>185</td>\n",
       "      <td>2</td>\n",
       "      <td>113.8</td>\n",
       "    </tr>\n",
       "    <tr>\n",
       "      <th>438</th>\n",
       "      <td>24.9</td>\n",
       "      <td>4.4427</td>\n",
       "      <td>75.00</td>\n",
       "      <td>225</td>\n",
       "      <td>2</td>\n",
       "      <td>166.0</td>\n",
       "    </tr>\n",
       "    <tr>\n",
       "      <th>439</th>\n",
       "      <td>24.9</td>\n",
       "      <td>4.1271</td>\n",
       "      <td>99.67</td>\n",
       "      <td>162</td>\n",
       "      <td>2</td>\n",
       "      <td>106.6</td>\n",
       "    </tr>\n",
       "    <tr>\n",
       "      <th>440</th>\n",
       "      <td>30.0</td>\n",
       "      <td>5.1299</td>\n",
       "      <td>95.00</td>\n",
       "      <td>201</td>\n",
       "      <td>1</td>\n",
       "      <td>125.2</td>\n",
       "    </tr>\n",
       "    <tr>\n",
       "      <th>441</th>\n",
       "      <td>19.6</td>\n",
       "      <td>4.5951</td>\n",
       "      <td>71.00</td>\n",
       "      <td>250</td>\n",
       "      <td>1</td>\n",
       "      <td>133.2</td>\n",
       "    </tr>\n",
       "  </tbody>\n",
       "</table>\n",
       "<p>442 rows × 6 columns</p>\n",
       "</div>"
      ],
      "text/plain": [
       "      BMI      S5      BP   S1  SEX     S2\n",
       "0    32.1  4.8598  101.00  157    2   93.2\n",
       "1    21.6  3.8918   87.00  183    1  103.2\n",
       "2    30.5  4.6728   93.00  156    2   93.6\n",
       "3    25.3  4.8903   84.00  198    1  131.4\n",
       "4    23.0  4.2905  101.00  192    1  125.4\n",
       "..    ...     ...     ...  ...  ...    ...\n",
       "437  28.2  4.9836  112.00  185    2  113.8\n",
       "438  24.9  4.4427   75.00  225    2  166.0\n",
       "439  24.9  4.1271   99.67  162    2  106.6\n",
       "440  30.0  5.1299   95.00  201    1  125.2\n",
       "441  19.6  4.5951   71.00  250    1  133.2\n",
       "\n",
       "[442 rows x 6 columns]"
      ]
     },
     "execution_count": 12,
     "metadata": {},
     "output_type": "execute_result"
    }
   ],
   "source": [
    "X[selected_features]"
   ]
  },
  {
   "cell_type": "code",
   "execution_count": 13,
   "id": "0433c772",
   "metadata": {},
   "outputs": [
    {
     "name": "stdout",
     "output_type": "stream",
     "text": [
      "R2 score:  0.5148837959256445\n",
      "Mean Squared Error:  2876.683251787016\n"
     ]
    }
   ],
   "source": [
    "model_with_selected_features = LinearRegression() # Linear Regression Model\n",
    "\n",
    "model_with_selected_features.fit(X[selected_features], y) # Fit the model with the data\n",
    "\n",
    "y_pred = model_with_selected_features.predict(X[selected_features]) # Predict the model with the data\n",
    "\n",
    "\n",
    "print(\"R2 score: \", r2_score(y, y_pred)) # R2 score\n",
    "\n",
    "print(\"Mean Squared Error: \", mean_squared_error(y, y_pred)) # Mean Squared Error"
   ]
  },
  {
   "cell_type": "markdown",
   "id": "61c7a000",
   "metadata": {},
   "source": [
    "# Question Four"
   ]
  },
  {
   "cell_type": "code",
   "execution_count": 14,
   "id": "21a55b6d",
   "metadata": {},
   "outputs": [
    {
     "data": {
      "text/html": [
       "<div>\n",
       "<style scoped>\n",
       "    .dataframe tbody tr th:only-of-type {\n",
       "        vertical-align: middle;\n",
       "    }\n",
       "\n",
       "    .dataframe tbody tr th {\n",
       "        vertical-align: top;\n",
       "    }\n",
       "\n",
       "    .dataframe thead th {\n",
       "        text-align: right;\n",
       "    }\n",
       "</style>\n",
       "<table border=\"1\" class=\"dataframe\">\n",
       "  <thead>\n",
       "    <tr style=\"text-align: right;\">\n",
       "      <th></th>\n",
       "      <th>pclass</th>\n",
       "      <th>survived</th>\n",
       "      <th>name</th>\n",
       "      <th>sex</th>\n",
       "      <th>age</th>\n",
       "      <th>sibsp</th>\n",
       "      <th>parch</th>\n",
       "      <th>ticket</th>\n",
       "      <th>fare</th>\n",
       "      <th>cabin</th>\n",
       "      <th>embarked</th>\n",
       "      <th>boat</th>\n",
       "      <th>body</th>\n",
       "      <th>home.dest</th>\n",
       "    </tr>\n",
       "  </thead>\n",
       "  <tbody>\n",
       "    <tr>\n",
       "      <th>0</th>\n",
       "      <td>1</td>\n",
       "      <td>1</td>\n",
       "      <td>Allen, Miss. Elisabeth Walton</td>\n",
       "      <td>female</td>\n",
       "      <td>29.00</td>\n",
       "      <td>0</td>\n",
       "      <td>0</td>\n",
       "      <td>24160</td>\n",
       "      <td>211.3375</td>\n",
       "      <td>B5</td>\n",
       "      <td>S</td>\n",
       "      <td>2</td>\n",
       "      <td>NaN</td>\n",
       "      <td>St Louis, MO</td>\n",
       "    </tr>\n",
       "    <tr>\n",
       "      <th>1</th>\n",
       "      <td>1</td>\n",
       "      <td>1</td>\n",
       "      <td>Allison, Master. Hudson Trevor</td>\n",
       "      <td>male</td>\n",
       "      <td>0.92</td>\n",
       "      <td>1</td>\n",
       "      <td>2</td>\n",
       "      <td>113781</td>\n",
       "      <td>151.5500</td>\n",
       "      <td>C22 C26</td>\n",
       "      <td>S</td>\n",
       "      <td>11</td>\n",
       "      <td>NaN</td>\n",
       "      <td>Montreal, PQ / Chesterville, ON</td>\n",
       "    </tr>\n",
       "    <tr>\n",
       "      <th>2</th>\n",
       "      <td>1</td>\n",
       "      <td>0</td>\n",
       "      <td>Allison, Miss. Helen Loraine</td>\n",
       "      <td>female</td>\n",
       "      <td>2.00</td>\n",
       "      <td>1</td>\n",
       "      <td>2</td>\n",
       "      <td>113781</td>\n",
       "      <td>151.5500</td>\n",
       "      <td>C22 C26</td>\n",
       "      <td>S</td>\n",
       "      <td>NaN</td>\n",
       "      <td>NaN</td>\n",
       "      <td>Montreal, PQ / Chesterville, ON</td>\n",
       "    </tr>\n",
       "    <tr>\n",
       "      <th>3</th>\n",
       "      <td>1</td>\n",
       "      <td>0</td>\n",
       "      <td>Allison, Mr. Hudson Joshua Creighton</td>\n",
       "      <td>male</td>\n",
       "      <td>30.00</td>\n",
       "      <td>1</td>\n",
       "      <td>2</td>\n",
       "      <td>113781</td>\n",
       "      <td>151.5500</td>\n",
       "      <td>C22 C26</td>\n",
       "      <td>S</td>\n",
       "      <td>NaN</td>\n",
       "      <td>135.0</td>\n",
       "      <td>Montreal, PQ / Chesterville, ON</td>\n",
       "    </tr>\n",
       "    <tr>\n",
       "      <th>4</th>\n",
       "      <td>1</td>\n",
       "      <td>0</td>\n",
       "      <td>Allison, Mrs. Hudson J C (Bessie Waldo Daniels)</td>\n",
       "      <td>female</td>\n",
       "      <td>25.00</td>\n",
       "      <td>1</td>\n",
       "      <td>2</td>\n",
       "      <td>113781</td>\n",
       "      <td>151.5500</td>\n",
       "      <td>C22 C26</td>\n",
       "      <td>S</td>\n",
       "      <td>NaN</td>\n",
       "      <td>NaN</td>\n",
       "      <td>Montreal, PQ / Chesterville, ON</td>\n",
       "    </tr>\n",
       "  </tbody>\n",
       "</table>\n",
       "</div>"
      ],
      "text/plain": [
       "   pclass  survived                                             name     sex  \\\n",
       "0       1         1                    Allen, Miss. Elisabeth Walton  female   \n",
       "1       1         1                   Allison, Master. Hudson Trevor    male   \n",
       "2       1         0                     Allison, Miss. Helen Loraine  female   \n",
       "3       1         0             Allison, Mr. Hudson Joshua Creighton    male   \n",
       "4       1         0  Allison, Mrs. Hudson J C (Bessie Waldo Daniels)  female   \n",
       "\n",
       "     age  sibsp  parch  ticket      fare    cabin embarked boat   body  \\\n",
       "0  29.00      0      0   24160  211.3375       B5        S    2    NaN   \n",
       "1   0.92      1      2  113781  151.5500  C22 C26        S   11    NaN   \n",
       "2   2.00      1      2  113781  151.5500  C22 C26        S  NaN    NaN   \n",
       "3  30.00      1      2  113781  151.5500  C22 C26        S  NaN  135.0   \n",
       "4  25.00      1      2  113781  151.5500  C22 C26        S  NaN    NaN   \n",
       "\n",
       "                         home.dest  \n",
       "0                     St Louis, MO  \n",
       "1  Montreal, PQ / Chesterville, ON  \n",
       "2  Montreal, PQ / Chesterville, ON  \n",
       "3  Montreal, PQ / Chesterville, ON  \n",
       "4  Montreal, PQ / Chesterville, ON  "
      ]
     },
     "execution_count": 14,
     "metadata": {},
     "output_type": "execute_result"
    }
   ],
   "source": [
    "titanic = pd.read_csv(\"./titanic3.csv\")\n",
    "titanic.head()"
   ]
  },
  {
   "cell_type": "code",
   "execution_count": 15,
   "id": "c2ffdc15",
   "metadata": {},
   "outputs": [
    {
     "name": "stdout",
     "output_type": "stream",
     "text": [
      "<class 'pandas.core.frame.DataFrame'>\n",
      "RangeIndex: 1309 entries, 0 to 1308\n",
      "Data columns (total 14 columns):\n",
      " #   Column     Non-Null Count  Dtype  \n",
      "---  ------     --------------  -----  \n",
      " 0   pclass     1309 non-null   int64  \n",
      " 1   survived   1309 non-null   int64  \n",
      " 2   name       1309 non-null   object \n",
      " 3   sex        1309 non-null   object \n",
      " 4   age        1046 non-null   float64\n",
      " 5   sibsp      1309 non-null   int64  \n",
      " 6   parch      1309 non-null   int64  \n",
      " 7   ticket     1309 non-null   object \n",
      " 8   fare       1308 non-null   float64\n",
      " 9   cabin      295 non-null    object \n",
      " 10  embarked   1307 non-null   object \n",
      " 11  boat       486 non-null    object \n",
      " 12  body       121 non-null    float64\n",
      " 13  home.dest  745 non-null    object \n",
      "dtypes: float64(3), int64(4), object(7)\n",
      "memory usage: 143.3+ KB\n"
     ]
    }
   ],
   "source": [
    "titanic.info()"
   ]
  },
  {
   "cell_type": "code",
   "execution_count": 16,
   "id": "f1cc9329",
   "metadata": {},
   "outputs": [
    {
     "data": {
      "text/plain": [
       "pclass      3\n",
       "survived    2\n",
       "sibsp       7\n",
       "parch       8\n",
       "dtype: int64"
      ]
     },
     "execution_count": 16,
     "metadata": {},
     "output_type": "execute_result"
    }
   ],
   "source": [
    "titanic.select_dtypes('int64').nunique()"
   ]
  },
  {
   "cell_type": "code",
   "execution_count": 17,
   "id": "63ffc622",
   "metadata": {},
   "outputs": [
    {
     "data": {
      "text/plain": [
       "count    1046.000000\n",
       "mean       29.881138\n",
       "std        14.413493\n",
       "min         0.170000\n",
       "25%        21.000000\n",
       "50%        28.000000\n",
       "75%        39.000000\n",
       "max        80.000000\n",
       "Name: age, dtype: float64"
      ]
     },
     "execution_count": 17,
     "metadata": {},
     "output_type": "execute_result"
    }
   ],
   "source": [
    "titanic['age'].describe()"
   ]
  },
  {
   "cell_type": "markdown",
   "id": "3cc355ac",
   "metadata": {},
   "source": [
    "## 4.2"
   ]
  },
  {
   "cell_type": "code",
   "execution_count": 18,
   "id": "09a2770f",
   "metadata": {},
   "outputs": [],
   "source": [
    "total_passengers = titanic['survived'].shape[0]\n",
    "survived = titanic[titanic[\"survived\"]==1].shape[0]"
   ]
  },
  {
   "cell_type": "code",
   "execution_count": 19,
   "id": "d76a768c",
   "metadata": {},
   "outputs": [
    {
     "name": "stdout",
     "output_type": "stream",
     "text": [
      "Probability of Survival: 0.38197\n"
     ]
    }
   ],
   "source": [
    "prob_of_survival = survived / total_passengers\n",
    "print(f\"Probability of Survival: {round(prob_of_survival,5)}\")"
   ]
  },
  {
   "cell_type": "markdown",
   "id": "d647a3b5",
   "metadata": {},
   "source": [
    "## 4.3 "
   ]
  },
  {
   "cell_type": "code",
   "execution_count": 20,
   "id": "e1dc2195",
   "metadata": {},
   "outputs": [
    {
     "name": "stdout",
     "output_type": "stream",
     "text": [
      "Survial rate for class one: 0.6192\n"
     ]
    }
   ],
   "source": [
    "# survial rate for passenger class 1\n",
    "passenger_class_one = titanic[titanic[\"pclass\"]==1]\n",
    "total_passengers_in_class_1 = passenger_class_one.shape[0]\n",
    "survived_passengers_in_class_1 = passenger_class_one[passenger_class_one['survived']==1].shape[0]\n",
    "prob_1 = survived_passengers_in_class_1/total_passengers_in_class_1\n",
    "print(f\"Survial rate for class one: {round(prob_1,5)}\")"
   ]
  },
  {
   "cell_type": "code",
   "execution_count": 21,
   "id": "d4af941d",
   "metadata": {},
   "outputs": [
    {
     "name": "stdout",
     "output_type": "stream",
     "text": [
      "Survial rate for class one: 0.4296\n"
     ]
    }
   ],
   "source": [
    "# survial rate for passenger class 2\n",
    "passenger_class_two = titanic[titanic[\"pclass\"]==2]\n",
    "total_passengers_in_class_2 = passenger_class_two.shape[0]\n",
    "survived_passengers_in_class_2 = passenger_class_two[passenger_class_two['survived']==1].shape[0]\n",
    "prob_2 = survived_passengers_in_class_2/total_passengers_in_class_2\n",
    "print(f\"Survial rate for class one: {round(prob_2,5)}\")"
   ]
  },
  {
   "cell_type": "code",
   "execution_count": 22,
   "id": "55b08085",
   "metadata": {},
   "outputs": [
    {
     "name": "stdout",
     "output_type": "stream",
     "text": [
      "Survial rate for class one: 0.25529\n"
     ]
    }
   ],
   "source": [
    "# survial rate for passenger class 3\n",
    "passenger_class_three = titanic[titanic[\"pclass\"]==3]\n",
    "total_passengers_in_class_3 = passenger_class_three.shape[0]\n",
    "survived_passengers_in_class_3 = passenger_class_three[passenger_class_three['survived']==1].shape[0]\n",
    "prob_3 = survived_passengers_in_class_3/total_passengers_in_class_3\n",
    "print(f\"Survial rate for class one: {round(prob_3,5)}\")"
   ]
  },
  {
   "cell_type": "code",
   "execution_count": 23,
   "id": "70cd3613",
   "metadata": {},
   "outputs": [
    {
     "name": "stdout",
     "output_type": "stream",
     "text": [
      "==============================\n",
      "| Class     | Probability     |\n",
      "==============================\n",
      "| One       | 0.6192          |\n",
      "| Two       | 0.4296          |\n",
      "| Three     | 0.2553          |\n",
      "==============================\n"
     ]
    }
   ],
   "source": [
    "print(\"=\"*30)\n",
    "print (\"| {:<10}| {:<15} |\".format('Class','Probability'))\n",
    "print(\"=\"*30)\n",
    "print (\"| {:<10}| {:<15} |\".format('One',round(prob_1,4)))\n",
    "print (\"| {:<10}| {:<15} |\".format('Two',round(prob_2,4)))\n",
    "print (\"| {:<10}| {:<15} |\".format('Three',round(prob_3,4)))\n",
    "print(\"=\"*30)"
   ]
  },
  {
   "cell_type": "code",
   "execution_count": 24,
   "id": "a7f811e3",
   "metadata": {},
   "outputs": [
    {
     "name": "stdout",
     "output_type": "stream",
     "text": [
      "    Pclass     Sex       Age  Survival Probability\n",
      "0        1  female   (0, 18]              0.923077\n",
      "1        1  female  (18, 40]              0.971429\n",
      "2        1  female  (40, 60]              0.977273\n",
      "3        1    male   (0, 18]              0.750000\n",
      "4        1    male  (18, 40]              0.406250\n",
      "5        1    male  (40, 60]              0.312500\n",
      "6        2  female   (0, 18]              0.952381\n",
      "7        2  female  (18, 40]              0.893939\n",
      "8        2  female  (40, 60]              0.812500\n",
      "9        2    male   (0, 18]              0.523810\n",
      "10       2    male  (18, 40]              0.097087\n",
      "11       2    male  (40, 60]              0.035714\n",
      "12       3  female   (0, 18]              0.534483\n",
      "13       3  female  (18, 40]              0.451220\n",
      "14       3  female  (40, 60]              0.272727\n",
      "15       3    male   (0, 18]              0.208333\n",
      "16       3    male  (18, 40]              0.174274\n",
      "17       3    male  (40, 60]              0.064516\n"
     ]
    }
   ],
   "source": [
    "# Define age intervals\n",
    "age_intervals = pd.cut(titanic['age'], [0, 18, 40, 60])\n",
    "\n",
    "# Group data by passenger class, sex, and age intervals\n",
    "survival_table = titanic.groupby(['pclass', 'sex', age_intervals], observed=False)['survived'].mean()\n",
    "\n",
    "# Convert the grouped series to a DataFrame and reset the index\n",
    "survival_table = survival_table.reset_index()\n",
    "\n",
    "# Rename columns for better readability\n",
    "survival_table.columns = ['Pclass', 'Sex', 'Age', 'Survival Probability']\n",
    "\n",
    "# Print the formatted survival table\n",
    "print(survival_table)"
   ]
  },
  {
   "cell_type": "code",
   "execution_count": 25,
   "id": "1bee784e",
   "metadata": {
    "scrolled": false
   },
   "outputs": [
    {
     "name": "stdout",
     "output_type": "stream",
     "text": [
      "Optimization terminated successfully.\n",
      "         Current function value: 0.469029\n",
      "         Iterations 6\n",
      "const     7.721085e-33\n",
      "pclass    9.834551e-29\n",
      "sex       2.747720e-63\n",
      "age       1.193900e-07\n",
      "dtype: float64\n",
      "                           Logit Regression Results                           \n",
      "==============================================================================\n",
      "Dep. Variable:               survived   No. Observations:                 1309\n",
      "Model:                          Logit   Df Residuals:                     1305\n",
      "Method:                           MLE   Df Model:                            3\n",
      "Date:                Mon, 06 Nov 2023   Pseudo R-squ.:                  0.2947\n",
      "Time:                        22:57:58   Log-Likelihood:                -613.96\n",
      "converged:                       True   LL-Null:                       -870.51\n",
      "Covariance Type:            nonrobust   LLR p-value:                6.892e-111\n",
      "==============================================================================\n",
      "                 coef    std err          z      P>|z|      [0.025      0.975]\n",
      "------------------------------------------------------------------------------\n",
      "const          4.3634      0.366     11.936      0.000       3.647       5.080\n",
      "pclass        -1.0653      0.096    -11.122      0.000      -1.253      -0.878\n",
      "sex           -2.4979      0.149    -16.793      0.000      -2.789      -2.206\n",
      "age           -0.0320      0.006     -5.294      0.000      -0.044      -0.020\n",
      "==============================================================================\n"
     ]
    }
   ],
   "source": [
    "# 4.4 Build Logistic Regression Model for Survival Rates\n",
    "\n",
    "# Prepare the data\n",
    "X = titanic[['pclass', 'sex', 'age']]\n",
    "y = titanic['survived']\n",
    "\n",
    "# Replace missing age values with the mean age\n",
    "\n",
    "X['age'].fillna(X['age'].mean(), inplace=True)\n",
    "\n",
    "# Convert categorical variable 'sex' to binary (0 or 1)\n",
    "X['sex'] = X['sex'].map({'female': 0, 'male': 1})\n",
    "\n",
    "# Add a constant (intercept) term to the independent variables\n",
    "X = sm.add_constant(X)\n",
    " \n",
    "# Fit the logistic regression model\n",
    "model = sm.Logit(y, X)\n",
    "result = model.fit()\n",
    "\n",
    "#  Get parameter estimates and p-values\n",
    "parameter_estimates = result.params\n",
    "p_values = result.pvalues\n",
    " \n",
    "\n",
    "print(p_values)\n",
    "# \n",
    "# # Summary of the logistic regression model\n",
    "print(result.summary())"
   ]
  },
  {
   "cell_type": "code",
   "execution_count": 26,
   "id": "47d8ca38",
   "metadata": {},
   "outputs": [
    {
     "name": "stdout",
     "output_type": "stream",
     "text": [
      "Confusion Matrix:\n",
      "[[685 124]\n",
      " [156 344]]\n",
      "Classification Accuracy: 78.61%\n"
     ]
    }
   ],
   "source": [
    "# Predict the test set\n",
    "y_pred = result.predict(X)\n",
    "\n",
    "# Define a threshold to classify as survived or not survived\n",
    "threshold = 0.5\n",
    "y_pred_class = (y_pred > threshold).astype(int)\n",
    "\n",
    "# Calculate confusion matrix\n",
    "cm = confusion_matrix(y, y_pred_class)\n",
    "\n",
    "# Calculate accuracy\n",
    "accuracy = accuracy_score(y, y_pred_class)\n",
    "print(\"Confusion Matrix:\")\n",
    "print(cm)\n",
    "print(f\"Classification Accuracy: {accuracy:.2%}\")"
   ]
  },
  {
   "cell_type": "code",
   "execution_count": null,
   "id": "e2070f64",
   "metadata": {},
   "outputs": [],
   "source": []
  }
 ],
 "metadata": {
  "kernelspec": {
   "display_name": "Python 3 (ipykernel)",
   "language": "python",
   "name": "python3"
  },
  "language_info": {
   "codemirror_mode": {
    "name": "ipython",
    "version": 3
   },
   "file_extension": ".py",
   "mimetype": "text/x-python",
   "name": "python",
   "nbconvert_exporter": "python",
   "pygments_lexer": "ipython3",
   "version": "3.11.3"
  }
 },
 "nbformat": 4,
 "nbformat_minor": 5
}
